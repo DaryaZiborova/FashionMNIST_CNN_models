{
  "nbformat": 4,
  "nbformat_minor": 0,
  "metadata": {
    "colab": {
      "provenance": [],
      "gpuType": "T4"
    },
    "kernelspec": {
      "name": "python3",
      "display_name": "Python 3"
    },
    "language_info": {
      "name": "python"
    },
    "accelerator": "GPU",
    "widgets": {
      "application/vnd.jupyter.widget-state+json": {
        "ae079297135c45e5b6aa570eb3afeeef": {
          "model_module": "@jupyter-widgets/controls",
          "model_name": "HBoxModel",
          "model_module_version": "1.5.0",
          "state": {
            "_dom_classes": [],
            "_model_module": "@jupyter-widgets/controls",
            "_model_module_version": "1.5.0",
            "_model_name": "HBoxModel",
            "_view_count": null,
            "_view_module": "@jupyter-widgets/controls",
            "_view_module_version": "1.5.0",
            "_view_name": "HBoxView",
            "box_style": "",
            "children": [
              "IPY_MODEL_2275f629f25244439cf4e5077820b7e7",
              "IPY_MODEL_cce79b993a1d447e8591a5652a4234db",
              "IPY_MODEL_6203ee46e0684a259f65cc0dddca8c9d"
            ],
            "layout": "IPY_MODEL_de95b2f806db44ddbbfd79bdf9ebba4e"
          }
        },
        "2275f629f25244439cf4e5077820b7e7": {
          "model_module": "@jupyter-widgets/controls",
          "model_name": "HTMLModel",
          "model_module_version": "1.5.0",
          "state": {
            "_dom_classes": [],
            "_model_module": "@jupyter-widgets/controls",
            "_model_module_version": "1.5.0",
            "_model_name": "HTMLModel",
            "_view_count": null,
            "_view_module": "@jupyter-widgets/controls",
            "_view_module_version": "1.5.0",
            "_view_name": "HTMLView",
            "description": "",
            "description_tooltip": null,
            "layout": "IPY_MODEL_db0ff08e92c34127be3445c7a1097186",
            "placeholder": "​",
            "style": "IPY_MODEL_ff708ddb912e4c838546e200093cc9f2",
            "value": "100%"
          }
        },
        "cce79b993a1d447e8591a5652a4234db": {
          "model_module": "@jupyter-widgets/controls",
          "model_name": "FloatProgressModel",
          "model_module_version": "1.5.0",
          "state": {
            "_dom_classes": [],
            "_model_module": "@jupyter-widgets/controls",
            "_model_module_version": "1.5.0",
            "_model_name": "FloatProgressModel",
            "_view_count": null,
            "_view_module": "@jupyter-widgets/controls",
            "_view_module_version": "1.5.0",
            "_view_name": "ProgressView",
            "bar_style": "success",
            "description": "",
            "description_tooltip": null,
            "layout": "IPY_MODEL_009871a437f941d7bf94ef92c6e7343b",
            "max": 10,
            "min": 0,
            "orientation": "horizontal",
            "style": "IPY_MODEL_4d395f2f684242808e2000db87a29ea0",
            "value": 10
          }
        },
        "6203ee46e0684a259f65cc0dddca8c9d": {
          "model_module": "@jupyter-widgets/controls",
          "model_name": "HTMLModel",
          "model_module_version": "1.5.0",
          "state": {
            "_dom_classes": [],
            "_model_module": "@jupyter-widgets/controls",
            "_model_module_version": "1.5.0",
            "_model_name": "HTMLModel",
            "_view_count": null,
            "_view_module": "@jupyter-widgets/controls",
            "_view_module_version": "1.5.0",
            "_view_name": "HTMLView",
            "description": "",
            "description_tooltip": null,
            "layout": "IPY_MODEL_bf27115fbb034434a8e29dec004c91b3",
            "placeholder": "​",
            "style": "IPY_MODEL_50da71b89df5400ca3f74ed2bb1f04f9",
            "value": " 10/10 [02:08&lt;00:00, 12.35s/it]"
          }
        },
        "de95b2f806db44ddbbfd79bdf9ebba4e": {
          "model_module": "@jupyter-widgets/base",
          "model_name": "LayoutModel",
          "model_module_version": "1.2.0",
          "state": {
            "_model_module": "@jupyter-widgets/base",
            "_model_module_version": "1.2.0",
            "_model_name": "LayoutModel",
            "_view_count": null,
            "_view_module": "@jupyter-widgets/base",
            "_view_module_version": "1.2.0",
            "_view_name": "LayoutView",
            "align_content": null,
            "align_items": null,
            "align_self": null,
            "border": null,
            "bottom": null,
            "display": null,
            "flex": null,
            "flex_flow": null,
            "grid_area": null,
            "grid_auto_columns": null,
            "grid_auto_flow": null,
            "grid_auto_rows": null,
            "grid_column": null,
            "grid_gap": null,
            "grid_row": null,
            "grid_template_areas": null,
            "grid_template_columns": null,
            "grid_template_rows": null,
            "height": null,
            "justify_content": null,
            "justify_items": null,
            "left": null,
            "margin": null,
            "max_height": null,
            "max_width": null,
            "min_height": null,
            "min_width": null,
            "object_fit": null,
            "object_position": null,
            "order": null,
            "overflow": null,
            "overflow_x": null,
            "overflow_y": null,
            "padding": null,
            "right": null,
            "top": null,
            "visibility": null,
            "width": null
          }
        },
        "db0ff08e92c34127be3445c7a1097186": {
          "model_module": "@jupyter-widgets/base",
          "model_name": "LayoutModel",
          "model_module_version": "1.2.0",
          "state": {
            "_model_module": "@jupyter-widgets/base",
            "_model_module_version": "1.2.0",
            "_model_name": "LayoutModel",
            "_view_count": null,
            "_view_module": "@jupyter-widgets/base",
            "_view_module_version": "1.2.0",
            "_view_name": "LayoutView",
            "align_content": null,
            "align_items": null,
            "align_self": null,
            "border": null,
            "bottom": null,
            "display": null,
            "flex": null,
            "flex_flow": null,
            "grid_area": null,
            "grid_auto_columns": null,
            "grid_auto_flow": null,
            "grid_auto_rows": null,
            "grid_column": null,
            "grid_gap": null,
            "grid_row": null,
            "grid_template_areas": null,
            "grid_template_columns": null,
            "grid_template_rows": null,
            "height": null,
            "justify_content": null,
            "justify_items": null,
            "left": null,
            "margin": null,
            "max_height": null,
            "max_width": null,
            "min_height": null,
            "min_width": null,
            "object_fit": null,
            "object_position": null,
            "order": null,
            "overflow": null,
            "overflow_x": null,
            "overflow_y": null,
            "padding": null,
            "right": null,
            "top": null,
            "visibility": null,
            "width": null
          }
        },
        "ff708ddb912e4c838546e200093cc9f2": {
          "model_module": "@jupyter-widgets/controls",
          "model_name": "DescriptionStyleModel",
          "model_module_version": "1.5.0",
          "state": {
            "_model_module": "@jupyter-widgets/controls",
            "_model_module_version": "1.5.0",
            "_model_name": "DescriptionStyleModel",
            "_view_count": null,
            "_view_module": "@jupyter-widgets/base",
            "_view_module_version": "1.2.0",
            "_view_name": "StyleView",
            "description_width": ""
          }
        },
        "009871a437f941d7bf94ef92c6e7343b": {
          "model_module": "@jupyter-widgets/base",
          "model_name": "LayoutModel",
          "model_module_version": "1.2.0",
          "state": {
            "_model_module": "@jupyter-widgets/base",
            "_model_module_version": "1.2.0",
            "_model_name": "LayoutModel",
            "_view_count": null,
            "_view_module": "@jupyter-widgets/base",
            "_view_module_version": "1.2.0",
            "_view_name": "LayoutView",
            "align_content": null,
            "align_items": null,
            "align_self": null,
            "border": null,
            "bottom": null,
            "display": null,
            "flex": null,
            "flex_flow": null,
            "grid_area": null,
            "grid_auto_columns": null,
            "grid_auto_flow": null,
            "grid_auto_rows": null,
            "grid_column": null,
            "grid_gap": null,
            "grid_row": null,
            "grid_template_areas": null,
            "grid_template_columns": null,
            "grid_template_rows": null,
            "height": null,
            "justify_content": null,
            "justify_items": null,
            "left": null,
            "margin": null,
            "max_height": null,
            "max_width": null,
            "min_height": null,
            "min_width": null,
            "object_fit": null,
            "object_position": null,
            "order": null,
            "overflow": null,
            "overflow_x": null,
            "overflow_y": null,
            "padding": null,
            "right": null,
            "top": null,
            "visibility": null,
            "width": null
          }
        },
        "4d395f2f684242808e2000db87a29ea0": {
          "model_module": "@jupyter-widgets/controls",
          "model_name": "ProgressStyleModel",
          "model_module_version": "1.5.0",
          "state": {
            "_model_module": "@jupyter-widgets/controls",
            "_model_module_version": "1.5.0",
            "_model_name": "ProgressStyleModel",
            "_view_count": null,
            "_view_module": "@jupyter-widgets/base",
            "_view_module_version": "1.2.0",
            "_view_name": "StyleView",
            "bar_color": null,
            "description_width": ""
          }
        },
        "bf27115fbb034434a8e29dec004c91b3": {
          "model_module": "@jupyter-widgets/base",
          "model_name": "LayoutModel",
          "model_module_version": "1.2.0",
          "state": {
            "_model_module": "@jupyter-widgets/base",
            "_model_module_version": "1.2.0",
            "_model_name": "LayoutModel",
            "_view_count": null,
            "_view_module": "@jupyter-widgets/base",
            "_view_module_version": "1.2.0",
            "_view_name": "LayoutView",
            "align_content": null,
            "align_items": null,
            "align_self": null,
            "border": null,
            "bottom": null,
            "display": null,
            "flex": null,
            "flex_flow": null,
            "grid_area": null,
            "grid_auto_columns": null,
            "grid_auto_flow": null,
            "grid_auto_rows": null,
            "grid_column": null,
            "grid_gap": null,
            "grid_row": null,
            "grid_template_areas": null,
            "grid_template_columns": null,
            "grid_template_rows": null,
            "height": null,
            "justify_content": null,
            "justify_items": null,
            "left": null,
            "margin": null,
            "max_height": null,
            "max_width": null,
            "min_height": null,
            "min_width": null,
            "object_fit": null,
            "object_position": null,
            "order": null,
            "overflow": null,
            "overflow_x": null,
            "overflow_y": null,
            "padding": null,
            "right": null,
            "top": null,
            "visibility": null,
            "width": null
          }
        },
        "50da71b89df5400ca3f74ed2bb1f04f9": {
          "model_module": "@jupyter-widgets/controls",
          "model_name": "DescriptionStyleModel",
          "model_module_version": "1.5.0",
          "state": {
            "_model_module": "@jupyter-widgets/controls",
            "_model_module_version": "1.5.0",
            "_model_name": "DescriptionStyleModel",
            "_view_count": null,
            "_view_module": "@jupyter-widgets/base",
            "_view_module_version": "1.2.0",
            "_view_name": "StyleView",
            "description_width": ""
          }
        },
        "d878241f1c98433c94622441b7c095f2": {
          "model_module": "@jupyter-widgets/controls",
          "model_name": "HBoxModel",
          "model_module_version": "1.5.0",
          "state": {
            "_dom_classes": [],
            "_model_module": "@jupyter-widgets/controls",
            "_model_module_version": "1.5.0",
            "_model_name": "HBoxModel",
            "_view_count": null,
            "_view_module": "@jupyter-widgets/controls",
            "_view_module_version": "1.5.0",
            "_view_name": "HBoxView",
            "box_style": "",
            "children": [
              "IPY_MODEL_b02e4b2d8a9d4303b8f9b96b28a48b07",
              "IPY_MODEL_d0a4a6d498b94afeaea80ebbcaa8a06b",
              "IPY_MODEL_b61fe40a932a4e1eb5ae908fe46457d1"
            ],
            "layout": "IPY_MODEL_2c0e8819d151480383991e8276474c69"
          }
        },
        "b02e4b2d8a9d4303b8f9b96b28a48b07": {
          "model_module": "@jupyter-widgets/controls",
          "model_name": "HTMLModel",
          "model_module_version": "1.5.0",
          "state": {
            "_dom_classes": [],
            "_model_module": "@jupyter-widgets/controls",
            "_model_module_version": "1.5.0",
            "_model_name": "HTMLModel",
            "_view_count": null,
            "_view_module": "@jupyter-widgets/controls",
            "_view_module_version": "1.5.0",
            "_view_name": "HTMLView",
            "description": "",
            "description_tooltip": null,
            "layout": "IPY_MODEL_8a9125d73a3842babfb5478b07713840",
            "placeholder": "​",
            "style": "IPY_MODEL_dbb344c38db14b07a607ea7d4688a829",
            "value": "100%"
          }
        },
        "d0a4a6d498b94afeaea80ebbcaa8a06b": {
          "model_module": "@jupyter-widgets/controls",
          "model_name": "FloatProgressModel",
          "model_module_version": "1.5.0",
          "state": {
            "_dom_classes": [],
            "_model_module": "@jupyter-widgets/controls",
            "_model_module_version": "1.5.0",
            "_model_name": "FloatProgressModel",
            "_view_count": null,
            "_view_module": "@jupyter-widgets/controls",
            "_view_module_version": "1.5.0",
            "_view_name": "ProgressView",
            "bar_style": "success",
            "description": "",
            "description_tooltip": null,
            "layout": "IPY_MODEL_e99a1e0e065c4e1d8669cb2f16645da3",
            "max": 20,
            "min": 0,
            "orientation": "horizontal",
            "style": "IPY_MODEL_710fe2296ea74337a82fa7e27031be8f",
            "value": 20
          }
        },
        "b61fe40a932a4e1eb5ae908fe46457d1": {
          "model_module": "@jupyter-widgets/controls",
          "model_name": "HTMLModel",
          "model_module_version": "1.5.0",
          "state": {
            "_dom_classes": [],
            "_model_module": "@jupyter-widgets/controls",
            "_model_module_version": "1.5.0",
            "_model_name": "HTMLModel",
            "_view_count": null,
            "_view_module": "@jupyter-widgets/controls",
            "_view_module_version": "1.5.0",
            "_view_name": "HTMLView",
            "description": "",
            "description_tooltip": null,
            "layout": "IPY_MODEL_509cdcb539164615b02df8a3f9381235",
            "placeholder": "​",
            "style": "IPY_MODEL_fa75502c2e334b788c5f6a7ac2f67707",
            "value": " 20/20 [04:49&lt;00:00, 14.42s/it]"
          }
        },
        "2c0e8819d151480383991e8276474c69": {
          "model_module": "@jupyter-widgets/base",
          "model_name": "LayoutModel",
          "model_module_version": "1.2.0",
          "state": {
            "_model_module": "@jupyter-widgets/base",
            "_model_module_version": "1.2.0",
            "_model_name": "LayoutModel",
            "_view_count": null,
            "_view_module": "@jupyter-widgets/base",
            "_view_module_version": "1.2.0",
            "_view_name": "LayoutView",
            "align_content": null,
            "align_items": null,
            "align_self": null,
            "border": null,
            "bottom": null,
            "display": null,
            "flex": null,
            "flex_flow": null,
            "grid_area": null,
            "grid_auto_columns": null,
            "grid_auto_flow": null,
            "grid_auto_rows": null,
            "grid_column": null,
            "grid_gap": null,
            "grid_row": null,
            "grid_template_areas": null,
            "grid_template_columns": null,
            "grid_template_rows": null,
            "height": null,
            "justify_content": null,
            "justify_items": null,
            "left": null,
            "margin": null,
            "max_height": null,
            "max_width": null,
            "min_height": null,
            "min_width": null,
            "object_fit": null,
            "object_position": null,
            "order": null,
            "overflow": null,
            "overflow_x": null,
            "overflow_y": null,
            "padding": null,
            "right": null,
            "top": null,
            "visibility": null,
            "width": null
          }
        },
        "8a9125d73a3842babfb5478b07713840": {
          "model_module": "@jupyter-widgets/base",
          "model_name": "LayoutModel",
          "model_module_version": "1.2.0",
          "state": {
            "_model_module": "@jupyter-widgets/base",
            "_model_module_version": "1.2.0",
            "_model_name": "LayoutModel",
            "_view_count": null,
            "_view_module": "@jupyter-widgets/base",
            "_view_module_version": "1.2.0",
            "_view_name": "LayoutView",
            "align_content": null,
            "align_items": null,
            "align_self": null,
            "border": null,
            "bottom": null,
            "display": null,
            "flex": null,
            "flex_flow": null,
            "grid_area": null,
            "grid_auto_columns": null,
            "grid_auto_flow": null,
            "grid_auto_rows": null,
            "grid_column": null,
            "grid_gap": null,
            "grid_row": null,
            "grid_template_areas": null,
            "grid_template_columns": null,
            "grid_template_rows": null,
            "height": null,
            "justify_content": null,
            "justify_items": null,
            "left": null,
            "margin": null,
            "max_height": null,
            "max_width": null,
            "min_height": null,
            "min_width": null,
            "object_fit": null,
            "object_position": null,
            "order": null,
            "overflow": null,
            "overflow_x": null,
            "overflow_y": null,
            "padding": null,
            "right": null,
            "top": null,
            "visibility": null,
            "width": null
          }
        },
        "dbb344c38db14b07a607ea7d4688a829": {
          "model_module": "@jupyter-widgets/controls",
          "model_name": "DescriptionStyleModel",
          "model_module_version": "1.5.0",
          "state": {
            "_model_module": "@jupyter-widgets/controls",
            "_model_module_version": "1.5.0",
            "_model_name": "DescriptionStyleModel",
            "_view_count": null,
            "_view_module": "@jupyter-widgets/base",
            "_view_module_version": "1.2.0",
            "_view_name": "StyleView",
            "description_width": ""
          }
        },
        "e99a1e0e065c4e1d8669cb2f16645da3": {
          "model_module": "@jupyter-widgets/base",
          "model_name": "LayoutModel",
          "model_module_version": "1.2.0",
          "state": {
            "_model_module": "@jupyter-widgets/base",
            "_model_module_version": "1.2.0",
            "_model_name": "LayoutModel",
            "_view_count": null,
            "_view_module": "@jupyter-widgets/base",
            "_view_module_version": "1.2.0",
            "_view_name": "LayoutView",
            "align_content": null,
            "align_items": null,
            "align_self": null,
            "border": null,
            "bottom": null,
            "display": null,
            "flex": null,
            "flex_flow": null,
            "grid_area": null,
            "grid_auto_columns": null,
            "grid_auto_flow": null,
            "grid_auto_rows": null,
            "grid_column": null,
            "grid_gap": null,
            "grid_row": null,
            "grid_template_areas": null,
            "grid_template_columns": null,
            "grid_template_rows": null,
            "height": null,
            "justify_content": null,
            "justify_items": null,
            "left": null,
            "margin": null,
            "max_height": null,
            "max_width": null,
            "min_height": null,
            "min_width": null,
            "object_fit": null,
            "object_position": null,
            "order": null,
            "overflow": null,
            "overflow_x": null,
            "overflow_y": null,
            "padding": null,
            "right": null,
            "top": null,
            "visibility": null,
            "width": null
          }
        },
        "710fe2296ea74337a82fa7e27031be8f": {
          "model_module": "@jupyter-widgets/controls",
          "model_name": "ProgressStyleModel",
          "model_module_version": "1.5.0",
          "state": {
            "_model_module": "@jupyter-widgets/controls",
            "_model_module_version": "1.5.0",
            "_model_name": "ProgressStyleModel",
            "_view_count": null,
            "_view_module": "@jupyter-widgets/base",
            "_view_module_version": "1.2.0",
            "_view_name": "StyleView",
            "bar_color": null,
            "description_width": ""
          }
        },
        "509cdcb539164615b02df8a3f9381235": {
          "model_module": "@jupyter-widgets/base",
          "model_name": "LayoutModel",
          "model_module_version": "1.2.0",
          "state": {
            "_model_module": "@jupyter-widgets/base",
            "_model_module_version": "1.2.0",
            "_model_name": "LayoutModel",
            "_view_count": null,
            "_view_module": "@jupyter-widgets/base",
            "_view_module_version": "1.2.0",
            "_view_name": "LayoutView",
            "align_content": null,
            "align_items": null,
            "align_self": null,
            "border": null,
            "bottom": null,
            "display": null,
            "flex": null,
            "flex_flow": null,
            "grid_area": null,
            "grid_auto_columns": null,
            "grid_auto_flow": null,
            "grid_auto_rows": null,
            "grid_column": null,
            "grid_gap": null,
            "grid_row": null,
            "grid_template_areas": null,
            "grid_template_columns": null,
            "grid_template_rows": null,
            "height": null,
            "justify_content": null,
            "justify_items": null,
            "left": null,
            "margin": null,
            "max_height": null,
            "max_width": null,
            "min_height": null,
            "min_width": null,
            "object_fit": null,
            "object_position": null,
            "order": null,
            "overflow": null,
            "overflow_x": null,
            "overflow_y": null,
            "padding": null,
            "right": null,
            "top": null,
            "visibility": null,
            "width": null
          }
        },
        "fa75502c2e334b788c5f6a7ac2f67707": {
          "model_module": "@jupyter-widgets/controls",
          "model_name": "DescriptionStyleModel",
          "model_module_version": "1.5.0",
          "state": {
            "_model_module": "@jupyter-widgets/controls",
            "_model_module_version": "1.5.0",
            "_model_name": "DescriptionStyleModel",
            "_view_count": null,
            "_view_module": "@jupyter-widgets/base",
            "_view_module_version": "1.2.0",
            "_view_name": "StyleView",
            "description_width": ""
          }
        }
      }
    }
  },
  "cells": [
    {
      "cell_type": "markdown",
      "source": [
        "# Importing necesessary modules\n"
      ],
      "metadata": {
        "id": "eJ1T_2c9dSXU"
      }
    },
    {
      "cell_type": "code",
      "source": [
        "from torch import nn\n",
        "import torch\n",
        "from tqdm.auto import tqdm\n",
        "try:\n",
        "  import torchmetrics\n",
        "except ModuleNotFoundError:\n",
        "  !pip install torchmetrics\n",
        "import matplotlib.pyplot as plt"
      ],
      "metadata": {
        "id": "nmOB7iujdxms"
      },
      "execution_count": null,
      "outputs": []
    },
    {
      "cell_type": "markdown",
      "source": [
        "# Setting device agnostic code"
      ],
      "metadata": {
        "id": "IJf9tLzid5_U"
      }
    },
    {
      "cell_type": "code",
      "source": [
        "device = 'cuda' if torch.cuda.is_available() else 'cpu'"
      ],
      "metadata": {
        "id": "SNJSnTJoeBwX"
      },
      "execution_count": null,
      "outputs": []
    },
    {
      "cell_type": "markdown",
      "source": [
        "# Downloading training and testing data if needed, setting dataloaders\n",
        "\n",
        "The data consits of grayscale images 28 by 28 pixels"
      ],
      "metadata": {
        "id": "FZ_CuAprePHM"
      }
    },
    {
      "cell_type": "code",
      "source": [
        "from torch.utils.data import DataLoader\n",
        "from torchvision import datasets\n",
        "import torchvision.transforms as transforms\n",
        "from pathlib import Path\n",
        "import os\n",
        "\n",
        "dataset_dir = './data'\n",
        "if not Path(dataset_dir).is_dir():\n",
        "  os.mkdir(dataset_dir)\n",
        "\n",
        "train_data = datasets.FashionMNIST(root=dataset_dir, train=True,\n",
        "                                   download=not Path('./data/FashionMNIST').is_dir(), target_transform=None,\n",
        "                                   transform=transforms.ToTensor())\n",
        "test_data = datasets.FashionMNIST(root=dataset_dir, train=False,\n",
        "                                   download=not Path('./data/FashionMNIST').is_dir(), target_transform=None,\n",
        "                                   transform=transforms.ToTensor())\n",
        "\n",
        "train_dataloader = DataLoader(dataset=train_data, batch_size=32, shuffle=True)\n",
        "test_dataloader = DataLoader(dataset=test_data, batch_size=32, shuffle=False)"
      ],
      "metadata": {
        "id": "ZDFHvfoxeX-N"
      },
      "execution_count": null,
      "outputs": []
    },
    {
      "cell_type": "markdown",
      "source": [
        "Showing the first 10 images of the training dataset with matplotlib:"
      ],
      "metadata": {
        "id": "7Qw5p1EKjJ_V"
      }
    },
    {
      "cell_type": "code",
      "source": [
        "class_names = train_data.classes\n",
        "print(f'In this dataset there are {len(class_names)} classes of different clothes items: {\"; \".join(class_names)}')\n",
        "print(f'Training dataset consists of {len(train_data)} images; Testing dataset consists of {len(test_data)} images\\n')\n",
        "\n",
        "fig = plt.figure(figsize=(10, 4))\n",
        "rows, cols = 2, 5\n",
        "for i in range(1, rows * cols + 1):\n",
        "    img, label = train_data[i-1]\n",
        "    fig.add_subplot(rows, cols, i)\n",
        "    plt.imshow(img.squeeze(), cmap=\"gray\")\n",
        "    plt.title(class_names[label])\n",
        "    plt.axis(False);"
      ],
      "metadata": {
        "colab": {
          "base_uri": "https://localhost:8080/",
          "height": 432
        },
        "id": "Ae2snhyGfeMO",
        "outputId": "56a150db-f39e-4327-ca1e-5285c7339626"
      },
      "execution_count": null,
      "outputs": [
        {
          "output_type": "stream",
          "name": "stdout",
          "text": [
            "In this dataset there are 10 classes of different clothes items: T-shirt/top; Trouser; Pullover; Dress; Coat; Sandal; Shirt; Sneaker; Bag; Ankle boot\n",
            "Training dataset consists of 60000 images; Testing dataset consists of 10000 images\n",
            "\n"
          ]
        },
        {
          "output_type": "display_data",
          "data": {
            "text/plain": [
              "<Figure size 1000x400 with 10 Axes>"
            ],
            "image/png": "[encoded data removed]"
          },
          "metadata": {}
        }
      ]
    },
    {
      "cell_type": "markdown",
      "source": [
        "# Creating the first model by subclassing `nn.Module`\n",
        "Defining hyperparameters, optimizer, loss function and accuracy function for this model"
      ],
      "metadata": {
        "id": "BlcWcrHbkgl-"
      }
    },
    {
      "cell_type": "code",
      "source": [
        "NUM_CLASSES = len(train_data.classes) # len(train_data.classes) = 10\n",
        "HIDDEN_UNITS = 10\n",
        "class FashionMNISTModel_v1(nn.Module):      #first version\n",
        "    def __init__(self, input_shape: int, hidden_units: int, output_shape: int):\n",
        "        super().__init__()\n",
        "        self.layer_stack = nn.Sequential(\n",
        "            nn.Flatten(),\n",
        "            nn.Linear(in_features=input_shape, out_features=hidden_units),\n",
        "            nn.ReLU(),\n",
        "            nn.Linear(in_features=hidden_units, out_features=output_shape),\n",
        "            nn.ReLU()\n",
        "        )\n",
        "    def forward(self, x):\n",
        "        return self.layer_stack(x)\n",
        "\n",
        "model_1 = FashionMNISTModel_v1(input_shape=28*28, hidden_units=HIDDEN_UNITS, output_shape=NUM_CLASSES).to(device)\n",
        "\n",
        "loss_fn_1 = nn.CrossEntropyLoss()\n",
        "optimizer_1 = torch.optim.SGD(params=model_1.parameters(), lr=0.1)\n",
        "accuracy_fn_1 = torchmetrics.Accuracy(task='multiclass', num_classes=NUM_CLASSES).to(device)"
      ],
      "metadata": {
        "id": "bcgb3g5jldJU"
      },
      "execution_count": null,
      "outputs": []
    },
    {
      "cell_type": "markdown",
      "source": [
        "# Defining functions for training and testing step"
      ],
      "metadata": {
        "id": "-JGYZBXTlv78"
      }
    },
    {
      "cell_type": "code",
      "source": [
        "def train_step(model, dataloader, optimizer, loss_fn, accuracy_fn, device=device):\n",
        "    average_acc = 0\n",
        "    average_loss = 0\n",
        "    model.train()\n",
        "    for batch, (image, target) in enumerate(dataloader):\n",
        "        image = image.to(device)\n",
        "        target = target.to(device)\n",
        "\n",
        "        logits = model(image)\n",
        "        preds = logits.argmax(dim=1)\n",
        "        loss = loss_fn(logits, target)\n",
        "\n",
        "        optimizer.zero_grad()\n",
        "        loss.backward()\n",
        "        optimizer.step()\n",
        "\n",
        "        average_acc += accuracy_fn(target, preds).item()\n",
        "        average_loss += loss\n",
        "\n",
        "    average_acc /= len(dataloader)\n",
        "    average_loss /= len(dataloader)\n",
        "    print (f'average train accuracy: {average_acc*100:.2f}%')\n",
        "    print (f'average train loss: {average_loss:.3f}')\n",
        "\n",
        "def test_step(model, dataloader, loss_fn, accuracy_fn, device=device):\n",
        "    average_acc = 0\n",
        "    average_loss = 0\n",
        "    model.eval()\n",
        "    with torch.inference_mode():\n",
        "        for image, target in dataloader:\n",
        "            image = image.to(device)\n",
        "            target = target.to(device)\n",
        "\n",
        "            logits = model(image)\n",
        "            preds = logits.argmax(dim=1)\n",
        "\n",
        "            average_acc += accuracy_fn(target, preds)\n",
        "            average_loss += loss_fn(logits, target)\n",
        "        average_acc /= len(dataloader)\n",
        "        average_loss /= len(dataloader)\n",
        "    print (f'average test accuracy: {average_acc*100:.2f}%')\n",
        "    print (f'average test loss: {average_loss:.3f}')"
      ],
      "metadata": {
        "id": "WXjpuB61l72d"
      },
      "execution_count": null,
      "outputs": []
    },
    {
      "cell_type": "markdown",
      "source": [
        "# Training and testing the first model"
      ],
      "metadata": {
        "id": "CMI9cKeanTZF"
      }
    },
    {
      "cell_type": "code",
      "source": [
        "epochs = 10\n",
        "for epoch in tqdm(range(1, epochs+1)):\n",
        "    print(f'epoch {epoch}')\n",
        "    train_step(model_1, train_dataloader, optimizer_1, loss_fn_1, accuracy_fn_1)\n",
        "    test_step(model_1, test_dataloader, loss_fn_1, accuracy_fn_1)"
      ],
      "metadata": {
        "colab": {
          "base_uri": "https://localhost:8080/",
          "height": 917,
          "referenced_widgets": [
            "ae079297135c45e5b6aa570eb3afeeef",
            "2275f629f25244439cf4e5077820b7e7",
            "cce79b993a1d447e8591a5652a4234db",
            "6203ee46e0684a259f65cc0dddca8c9d",
            "de95b2f806db44ddbbfd79bdf9ebba4e",
            "db0ff08e92c34127be3445c7a1097186",
            "ff708ddb912e4c838546e200093cc9f2",
            "009871a437f941d7bf94ef92c6e7343b",
            "4d395f2f684242808e2000db87a29ea0",
            "bf27115fbb034434a8e29dec004c91b3",
            "50da71b89df5400ca3f74ed2bb1f04f9"
          ]
        },
        "collapsed": true,
        "id": "qfLYieh8nbRW",
        "outputId": "d8e08eca-871a-4993-e246-9e23efcdac38"
      },
      "execution_count": null,
      "outputs": [
        {
          "output_type": "display_data",
          "data": {
            "text/plain": [
              "  0%|          | 0/10 [00:00<?, ?it/s]"
            ],
            "application/vnd.jupyter.widget-view+json": {
              "version_major": 2,
              "version_minor": 0,
              "model_id": "ae079297135c45e5b6aa570eb3afeeef"
            }
          },
          "metadata": {}
        },
        {
          "output_type": "stream",
          "name": "stdout",
          "text": [
            "epoch 1\n",
            "average train accuracy: 69.75%\n",
            "average train loss: 0.850\n",
            "average test accuracy: 80.63%\n",
            "average test loss: 0.562\n",
            "epoch 2\n",
            "average train accuracy: 82.96%\n",
            "average train loss: 0.481\n",
            "average test accuracy: 82.11%\n",
            "average test loss: 0.513\n",
            "epoch 3\n",
            "average train accuracy: 84.06%\n",
            "average train loss: 0.447\n",
            "average test accuracy: 83.36%\n",
            "average test loss: 0.462\n",
            "epoch 4\n",
            "average train accuracy: 84.64%\n",
            "average train loss: 0.430\n",
            "average test accuracy: 84.12%\n",
            "average test loss: 0.452\n",
            "epoch 5\n",
            "average train accuracy: 85.02%\n",
            "average train loss: 0.415\n",
            "average test accuracy: 83.77%\n",
            "average test loss: 0.453\n",
            "epoch 6\n",
            "average train accuracy: 85.32%\n",
            "average train loss: 0.409\n",
            "average test accuracy: 84.49%\n",
            "average test loss: 0.440\n",
            "epoch 7\n",
            "average train accuracy: 85.64%\n",
            "average train loss: 0.401\n",
            "average test accuracy: 84.36%\n",
            "average test loss: 0.445\n",
            "epoch 8\n",
            "average train accuracy: 85.66%\n",
            "average train loss: 0.396\n",
            "average test accuracy: 84.33%\n",
            "average test loss: 0.436\n",
            "epoch 9\n",
            "average train accuracy: 85.80%\n",
            "average train loss: 0.391\n",
            "average test accuracy: 83.89%\n",
            "average test loss: 0.437\n",
            "epoch 10\n",
            "average train accuracy: 86.11%\n",
            "average train loss: 0.387\n",
            "average test accuracy: 83.96%\n",
            "average test loss: 0.439\n"
          ]
        }
      ]
    },
    {
      "cell_type": "markdown",
      "source": [
        "# Creating the second model using CNN with tiny VGG architecture\n",
        "Defining hyperparameters, optimizer, loss function and accuracy function for this model"
      ],
      "metadata": {
        "id": "Rxe_3AU5n_rd"
      }
    },
    {
      "cell_type": "code",
      "source": [
        "NUM_CLASSES = len(train_data.classes) # len(train_data.classes) = 10\n",
        "HIDDEN_UNITS = 10\n",
        "classifier_input = int((28/2/2)**2 * HIDDEN_UNITS)\n",
        "\n",
        "class FashionMNISTModel_v2(nn.Module):      #tiny VGG architecure\n",
        "    def __init__(self, input_shape: int, hidden_units: int, output_shape: int):\n",
        "        super().__init__()\n",
        "        self.conv_block1 = nn.Sequential(\n",
        "            nn.Conv2d(in_channels=input_shape, out_channels=hidden_units,\n",
        "                      kernel_size=3, stride=1, padding=1),\n",
        "            nn.ReLU(),\n",
        "            nn.Conv2d(in_channels=hidden_units, out_channels=hidden_units,\n",
        "                      kernel_size=3, stride=1, padding=1),\n",
        "            nn.ReLU(),\n",
        "            nn.MaxPool2d(kernel_size=2)\n",
        "        )\n",
        "        self.conv_block2 = nn.Sequential(\n",
        "            nn.Conv2d(in_channels=hidden_units, out_channels=hidden_units,\n",
        "                      kernel_size=3, stride=1, padding=1),\n",
        "            nn.ReLU(),\n",
        "            nn.Conv2d(in_channels=hidden_units, out_channels=hidden_units,\n",
        "                      kernel_size=3, stride=1, padding=1),\n",
        "            nn.ReLU(),\n",
        "            nn.MaxPool2d(kernel_size=2)\n",
        "        )\n",
        "        self.classifier = nn.Sequential(\n",
        "            nn.Flatten(),\n",
        "            nn.Linear(in_features=classifier_input, out_features=output_shape)\n",
        "        )\n",
        "    def forward(self, x):\n",
        "        x = self.conv_block1(x)\n",
        "        x = self.conv_block2(x)\n",
        "        x = self.classifier(x)\n",
        "        return x\n",
        "\n",
        "model_2 = FashionMNISTModel_v2(input_shape=1, hidden_units=HIDDEN_UNITS, output_shape=NUM_CLASSES).to(device)\n",
        "\n",
        "loss_fn_2 = nn.CrossEntropyLoss()\n",
        "optimizer_2 = torch.optim.SGD(params=model_2.parameters(), lr=0.1)\n",
        "accuracy_fn_2 = torchmetrics.Accuracy(task='multiclass', num_classes=NUM_CLASSES).to(device)"
      ],
      "metadata": {
        "id": "pMRMCcqUoYXt"
      },
      "execution_count": null,
      "outputs": []
    },
    {
      "cell_type": "markdown",
      "source": [
        "# Training and testing the second model"
      ],
      "metadata": {
        "id": "u35IeEQGqMyO"
      }
    },
    {
      "cell_type": "code",
      "source": [
        "epochs = 20\n",
        "for epoch in tqdm(range(1, epochs+1)):\n",
        "    print(f'epoch {epoch}')\n",
        "    train_step(model_2, train_dataloader, optimizer_2, loss_fn_2, accuracy_fn_2)\n",
        "    test_step(model_2, test_dataloader, loss_fn_2, accuracy_fn_2)"
      ],
      "metadata": {
        "colab": {
          "base_uri": "https://localhost:8080/",
          "height": 1000,
          "referenced_widgets": [
            "d878241f1c98433c94622441b7c095f2",
            "b02e4b2d8a9d4303b8f9b96b28a48b07",
            "d0a4a6d498b94afeaea80ebbcaa8a06b",
            "b61fe40a932a4e1eb5ae908fe46457d1",
            "2c0e8819d151480383991e8276474c69",
            "8a9125d73a3842babfb5478b07713840",
            "dbb344c38db14b07a607ea7d4688a829",
            "e99a1e0e065c4e1d8669cb2f16645da3",
            "710fe2296ea74337a82fa7e27031be8f",
            "509cdcb539164615b02df8a3f9381235",
            "fa75502c2e334b788c5f6a7ac2f67707"
          ]
        },
        "collapsed": true,
        "id": "mMHMQqD5qUe2",
        "outputId": "39dfc07d-0202-4a24-e927-6b9d6d3a999f"
      },
      "execution_count": null,
      "outputs": [
        {
          "output_type": "display_data",
          "data": {
            "text/plain": [
              "  0%|          | 0/20 [00:00<?, ?it/s]"
            ],
            "application/vnd.jupyter.widget-view+json": {
              "version_major": 2,
              "version_minor": 0,
              "model_id": "d878241f1c98433c94622441b7c095f2"
            }
          },
          "metadata": {}
        },
        {
          "output_type": "stream",
          "name": "stdout",
          "text": [
            "epoch 1\n",
            "average train accuracy: 76.99%\n",
            "average train loss: 0.626\n",
            "average test accuracy: 86.88%\n",
            "average test loss: 0.367\n",
            "epoch 2\n",
            "average train accuracy: 87.80%\n",
            "average train loss: 0.343\n",
            "average test accuracy: 87.11%\n",
            "average test loss: 0.347\n",
            "epoch 3\n",
            "average train accuracy: 89.07%\n",
            "average train loss: 0.303\n",
            "average test accuracy: 88.40%\n",
            "average test loss: 0.322\n",
            "epoch 4\n",
            "average train accuracy: 89.76%\n",
            "average train loss: 0.283\n",
            "average test accuracy: 88.77%\n",
            "average test loss: 0.314\n",
            "epoch 5\n",
            "average train accuracy: 90.14%\n",
            "average train loss: 0.271\n",
            "average test accuracy: 88.73%\n",
            "average test loss: 0.302\n",
            "epoch 6\n",
            "average train accuracy: 90.58%\n",
            "average train loss: 0.260\n",
            "average test accuracy: 88.71%\n",
            "average test loss: 0.315\n",
            "epoch 7\n",
            "average train accuracy: 90.83%\n",
            "average train loss: 0.252\n",
            "average test accuracy: 89.70%\n",
            "average test loss: 0.284\n",
            "epoch 8\n",
            "average train accuracy: 90.98%\n",
            "average train loss: 0.247\n",
            "average test accuracy: 90.01%\n",
            "average test loss: 0.282\n",
            "epoch 9\n",
            "average train accuracy: 91.06%\n",
            "average train loss: 0.245\n",
            "average test accuracy: 89.94%\n",
            "average test loss: 0.286\n",
            "epoch 10\n",
            "average train accuracy: 91.27%\n",
            "average train loss: 0.239\n",
            "average test accuracy: 89.09%\n",
            "average test loss: 0.306\n",
            "epoch 11\n",
            "average train accuracy: 91.36%\n",
            "average train loss: 0.236\n",
            "average test accuracy: 88.41%\n",
            "average test loss: 0.315\n",
            "epoch 12\n",
            "average train accuracy: 91.50%\n",
            "average train loss: 0.231\n",
            "average test accuracy: 90.10%\n",
            "average test loss: 0.275\n",
            "epoch 13\n",
            "average train accuracy: 91.71%\n",
            "average train loss: 0.227\n",
            "average test accuracy: 89.66%\n",
            "average test loss: 0.285\n",
            "epoch 14\n",
            "average train accuracy: 91.77%\n",
            "average train loss: 0.226\n",
            "average test accuracy: 89.95%\n",
            "average test loss: 0.275\n",
            "epoch 15\n",
            "average train accuracy: 91.95%\n",
            "average train loss: 0.223\n",
            "average test accuracy: 90.10%\n",
            "average test loss: 0.286\n",
            "epoch 16\n",
            "average train accuracy: 91.80%\n",
            "average train loss: 0.222\n",
            "average test accuracy: 90.46%\n",
            "average test loss: 0.271\n",
            "epoch 17\n",
            "average train accuracy: 92.06%\n",
            "average train loss: 0.216\n",
            "average test accuracy: 90.61%\n",
            "average test loss: 0.278\n",
            "epoch 18\n",
            "average train accuracy: 92.04%\n",
            "average train loss: 0.215\n",
            "average test accuracy: 90.20%\n",
            "average test loss: 0.281\n",
            "epoch 19\n",
            "average train accuracy: 92.20%\n",
            "average train loss: 0.213\n",
            "average test accuracy: 90.62%\n",
            "average test loss: 0.278\n",
            "epoch 20\n",
            "average train accuracy: 92.23%\n",
            "average train loss: 0.211\n",
            "average test accuracy: 89.91%\n",
            "average test loss: 0.283\n"
          ]
        }
      ]
    },
    {
      "cell_type": "markdown",
      "source": [
        "# Saving a model"
      ],
      "metadata": {
        "id": "QXY2i75LJZEV"
      }
    },
    {
      "cell_type": "code",
      "source": [
        "from pathlib import Path\n",
        "import os\n",
        "\n",
        "MODEL_NAME = 'pytorch_FashionMNIST_model.pth'\n",
        "MODEL_PATH = 'models'\n",
        "if not Path(MODEL_PATH).is_dir():\n",
        "  os.mkdir(MODEL_PATH)\n",
        "\n",
        "MODEL_SAVE_PATH = MODEL_PATH + '/' + MODEL_NAME\n"
      ],
      "metadata": {
        "id": "Rol9ieP7J3T0"
      },
      "execution_count": null,
      "outputs": []
    },
    {
      "cell_type": "code",
      "source": [
        "torch.save(model_2.state_dict(), MODEL_SAVE_PATH)"
      ],
      "metadata": {
        "id": "WjyZ-laQLfst"
      },
      "execution_count": null,
      "outputs": []
    },
    {
      "cell_type": "markdown",
      "source": [
        "# Loading a model\n"
      ],
      "metadata": {
        "id": "Gx3v-pmsLAUe"
      }
    },
    {
      "cell_type": "code",
      "source": [
        "loaded_model = FashionMNISTModel_v2(input_shape=1, hidden_units=HIDDEN_UNITS, output_shape=NUM_CLASSES).to(device)\n",
        "loaded_model.load_state_dict(torch.load(MODEL_SAVE_PATH, weights_only=True, map_location=torch.device(device)))\n"
      ],
      "metadata": {
        "colab": {
          "base_uri": "https://localhost:8080/"
        },
        "id": "nhyWM42dLv5Y",
        "outputId": "4851b901-5877-452d-c94b-1670b472fbdf"
      },
      "execution_count": null,
      "outputs": [
        {
          "output_type": "execute_result",
          "data": {
            "text/plain": [
              "<All keys matched successfully>"
            ]
          },
          "metadata": {},
          "execution_count": 12
        }
      ]
    },
    {
      "cell_type": "markdown",
      "source": [
        "# Evaluating a model"
      ],
      "metadata": {
        "id": "p0YYZTTVphnf"
      }
    },
    {
      "cell_type": "markdown",
      "source": [
        "### Plotting random predictions"
      ],
      "metadata": {
        "id": "92cbp3wPqlo-"
      }
    },
    {
      "cell_type": "code",
      "source": [
        "import random\n",
        "\n",
        "def plot_predictions(model, test_data):\n",
        "  sample = random.sample(list(test_data), k=9)\n",
        "  plt.figure(figsize=(9, 9))\n",
        "  rows = 3\n",
        "  cols = 3\n",
        "  model.eval()\n",
        "  with torch.inference_mode():\n",
        "    for i, (img, label) in enumerate(sample):\n",
        "      plt.subplot(rows, cols, i+1)\n",
        "      plt.imshow(img.squeeze(), cmap=\"gray\")\n",
        "\n",
        "      img = img.to(device)\n",
        "      pred = model(img.unsqueeze(dim=0)).argmax(dim=1)\n",
        "      pred_label = class_names[pred]\n",
        "\n",
        "      truth_label = class_names[label]\n",
        "\n",
        "      title_text = f\"Pred: {pred_label} | Truth: {truth_label}\"\n",
        "\n",
        "      if pred_label == truth_label:\n",
        "          plt.title(title_text, fontsize=9, c=\"g\")\n",
        "      else:\n",
        "          plt.title(title_text, fontsize=9, c=\"r\")\n",
        "      plt.axis(False);\n",
        "\n",
        "plot_predictions(loaded_model, test_data)"
      ],
      "metadata": {
        "colab": {
          "base_uri": "https://localhost:8080/",
          "height": 748
        },
        "id": "981YvMePqy02",
        "outputId": "683c133f-8dd4-4c51-d678-038379c9fa0a"
      },
      "execution_count": null,
      "outputs": [
        {
          "output_type": "display_data",
          "data": {
            "text/plain": [
              "<Figure size 900x900 with 9 Axes>"
            ],
            "image/png": "[encoded data removed]"
          },
          "metadata": {}
        }
      ]
    },
    {
      "cell_type": "markdown",
      "source": [
        "### Plotting some random images the model got wrong"
      ],
      "metadata": {
        "id": "cX2u-nBaolPg"
      }
    },
    {
      "cell_type": "code",
      "source": [
        "import random\n",
        "\n",
        "def rand_wrong_prediction(model, test_data):\n",
        "  targets = test_data.targets\n",
        "  class_names = test_data.classes\n",
        "\n",
        "  predictions = []\n",
        "  probabilities = []\n",
        "\n",
        "  loaded_model.eval()\n",
        "  with torch.inference_mode():\n",
        "      for image, target in test_dataloader:\n",
        "          image = image.to(device)\n",
        "          target = target.to(device)\n",
        "\n",
        "          logits = loaded_model(image)\n",
        "          probs = torch.softmax(logits, dim=1)\n",
        "          preds = logits.argmax(dim=1)\n",
        "          predictions += torch.Tensor.tolist(preds)\n",
        "          probabilities += torch.Tensor.tolist(probs)\n",
        "\n",
        "  predictions = torch.tensor(predictions)\n",
        "  wrong_preds_indices = torch.Tensor.tolist(torch.nonzero(torch.ne(predictions, targets)).squeeze())\n",
        "\n",
        "  fig = plt.figure(figsize=(10, 4))\n",
        "  wrong_idx = random.choice(wrong_preds_indices)\n",
        "  fig.add_subplot(1, 2, 1)\n",
        "  img = test_data.data[wrong_idx]\n",
        "  plt.imshow(img.squeeze(), cmap=\"gray\")\n",
        "  plt.title(f'Target class: {class_names[targets[wrong_idx]]}')\n",
        "\n",
        "  probs = probabilities[wrong_idx]\n",
        "  fig.add_subplot(1, 2, 2)\n",
        "\n",
        "  plt.barh(class_names, probs)\n",
        "  plt.xlabel(\"probability\")\n",
        "  plt.ylabel(\"classes\")\n",
        "  plt.title(f'Predicted class: {class_names[predictions[wrong_idx]]}')\n",
        "\n",
        "for i in range(3):\n",
        "  rand_wrong_prediction(loaded_model, test_data)\n",
        "\n",
        "\n"
      ],
      "metadata": {
        "colab": {
          "base_uri": "https://localhost:8080/",
          "height": 1000
        },
        "id": "2xeNwZnDZtRo",
        "outputId": "59e815c5-a050-4f03-9b07-e813d4015771"
      },
      "execution_count": null,
      "outputs": [
        {
          "output_type": "display_data",
          "data": {
            "text/plain": [
              "<Figure size 1000x400 with 2 Axes>"
            ],
            "image/png": "[encoded data removed]"
          },
          "metadata": {}
        },
        {
          "output_type": "display_data",
          "data": {
            "text/plain": [
              "<Figure size 1000x400 with 2 Axes>"
            ],
            "image/png": "[encoded data removed]"
          },
          "metadata": {}
        },
        {
          "output_type": "display_data",
          "data": {
            "text/plain": [
              "<Figure size 1000x400 with 2 Axes>"
            ],
            "image/png": "[encoded data removed]"
          },
          "metadata": {}
        }
      ]
    }
  ]
}